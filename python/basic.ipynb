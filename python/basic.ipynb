{
 "cells": [
  {
   "cell_type": "markdown",
   "metadata": {},
   "source": [
    "Basic types"
   ]
  },
  {
   "cell_type": "code",
   "execution_count": 47,
   "metadata": {},
   "outputs": [],
   "source": [
    "from IPython.core.interactiveshell import InteractiveShell\n",
    "InteractiveShell.ast_node_interactivity = \"all\""
   ]
  },
  {
   "cell_type": "code",
   "execution_count": 30,
   "metadata": {},
   "outputs": [
    {
     "data": {
      "text/plain": [
       "1.5"
      ]
     },
     "execution_count": 30,
     "metadata": {},
     "output_type": "execute_result"
    },
    {
     "data": {
      "text/plain": [
       "1"
      ]
     },
     "execution_count": 30,
     "metadata": {},
     "output_type": "execute_result"
    },
    {
     "data": {
      "text/plain": [
       "2"
      ]
     },
     "execution_count": 30,
     "metadata": {},
     "output_type": "execute_result"
    },
    {
     "data": {
      "text/plain": [
       "(2+3j)"
      ]
     },
     "execution_count": 30,
     "metadata": {},
     "output_type": "execute_result"
    },
    {
     "data": {
      "text/plain": [
       "(2, 1)"
      ]
     },
     "execution_count": 30,
     "metadata": {},
     "output_type": "execute_result"
    },
    {
     "data": {
      "text/plain": [
       "9"
      ]
     },
     "execution_count": 30,
     "metadata": {},
     "output_type": "execute_result"
    },
    {
     "data": {
      "text/plain": [
       "9"
      ]
     },
     "execution_count": 30,
     "metadata": {},
     "output_type": "execute_result"
    },
    {
     "data": {
      "text/plain": [
       "3"
      ]
     },
     "execution_count": 30,
     "metadata": {},
     "output_type": "execute_result"
    },
    {
     "data": {
      "text/plain": [
       "3"
      ]
     },
     "execution_count": 30,
     "metadata": {},
     "output_type": "execute_result"
    },
    {
     "data": {
      "text/plain": [
       "'0b111'"
      ]
     },
     "execution_count": 30,
     "metadata": {},
     "output_type": "execute_result"
    },
    {
     "data": {
      "text/plain": [
       "'-0b10'"
      ]
     },
     "execution_count": 30,
     "metadata": {},
     "output_type": "execute_result"
    }
   ],
   "source": [
    "# Basic types\n",
    "3/2\n",
    "3//2\n",
    "abs(-2)\n",
    "complex(2, 3)\n",
    "divmod(5, 2)\n",
    "pow(3,2)\n",
    "3**2\n",
    "round(3.4)\n",
    "import math\n",
    "math.floor(3.2)\n",
    "bin(0b111 | 0b001)\n",
    "bin(~0b001)"
   ]
  },
  {
   "cell_type": "code",
   "execution_count": 57,
   "metadata": {},
   "outputs": [
    {
     "name": "stdout",
     "output_type": "stream",
     "text": [
      "1 2 3 4 5 \n",
      "1 2 3 4 5 \n",
      "[1, 2, 3, 4, 5]\n",
      "[1, 2, 3, 4, 5]\n"
     ]
    }
   ],
   "source": [
    "# Iterator\n",
    "import random\n",
    "\n",
    "class RandomIterable:\n",
    "    def __init__(self):\n",
    "        self.ctr = 0\n",
    "    def __iter__(self):\n",
    "        return self\n",
    "    def __next__(self):\n",
    "        if self.ctr == 5:\n",
    "            raise StopIteration\n",
    "        self.ctr += 1\n",
    "        return self.ctr\n",
    "\n",
    "it = iter(RandomIterable())\n",
    "while True:\n",
    "    try:\n",
    "        value = next(it)\n",
    "        print('{}'.format(value), end = ' ')\n",
    "    except StopIteration:\n",
    "        break\n",
    "print()\n",
    "        \n",
    "for i in RandomIterable():\n",
    "    print(i, end = ' ')\n",
    "print()\n",
    "\n",
    "print(list(RandomIterable()))\n",
    "print([x for x in RandomIterable()])"
   ]
  },
  {
   "cell_type": "code",
   "execution_count": 83,
   "metadata": {},
   "outputs": [
    {
     "name": "stdout",
     "output_type": "stream",
     "text": [
      "ababab\n",
      "abcd\n",
      "f\n",
      "Yu\n",
      "Yusu\n",
      "suf\n",
      "5\n",
      "2\n",
      "a, b\n",
      "a, b\n",
      "a, b\n",
      "3.140000, +3.140000, 3.140000\n",
      "10 0xa a 12 0o12 1010 0b1010\n",
      "10,000,000\n",
      "Hey, Levi!\n"
     ]
    }
   ],
   "source": [
    "# String\n",
    "\n",
    "print('ab' * 3)\n",
    "print('ab' 'cd')\n",
    "s = \"Yusuf\"\n",
    "print(s[-1])\n",
    "print(s[0:2])\n",
    "print(s[:-1])\n",
    "print(s[2:])\n",
    "print(len(s))\n",
    "print(str(2))\n",
    "\n",
    "print('{0}, {1}'.format('a', 'b'))\n",
    "print('{}, {}'.format('a', 'b'))\n",
    "print('{0}, {1}'.format(*'ab'))\n",
    "print('{0:f}, {0:+f}, {0:-f}'.format(3.14))\n",
    "print('{0:d} {0:#x} {0:x} {0:o} {0:#o} {0:b} {0:#b}'.format(10))\n",
    "print('{:,}'.format(10000000))\n",
    "\n",
    "from string import Template\n",
    "t = Template('Hey, $name!')\n",
    "print(t.substitute(name='Levi'))"
   ]
  },
  {
   "cell_type": "code",
   "execution_count": 15,
   "metadata": {},
   "outputs": [
    {
     "name": "stdout",
     "output_type": "stream",
     "text": [
      "[1, 2, 3, 4, 5, 1, 4, 9, 16, 25]\n",
      "[1, 2, 3, 4, 5, 1, 4, 9, 16, 25, 100]\n",
      "[1, 2, 5, 1, 4, 9, 16, 25, 100]\n"
     ]
    }
   ],
   "source": [
    "# List\n",
    "from itertools import count, islice\n",
    "numbers = list(islice(count(1), 5))\n",
    "squares = [x ** 2 for x in numbers]\n",
    "print(numbers + squares)\n",
    "numbers.extend(squares)\n",
    "numbers.append(100)\n",
    "print(numbers)\n",
    "numbers[2:4] = []\n",
    "print(numbers)\n",
    "\n",
    "copied_numbers = numbers[:]"
   ]
  },
  {
   "cell_type": "code",
   "execution_count": 22,
   "metadata": {},
   "outputs": [
    {
     "name": "stdout",
     "output_type": "stream",
     "text": [
      "[5, 8]\n",
      "[(0, 5), (1, 8)]\n",
      "0 0\n",
      "1 1\n",
      "2 4\n"
     ]
    }
   ],
   "source": [
    "# Range\n",
    "print(list(range(5, 10, 3)))\n",
    "print(list(enumerate(range(5, 10, 3))))\n",
    "for i, v in enumerate(map(lambda x: x**2, range(3))):\n",
    "    print(i, v)\n"
   ]
  },
  {
   "cell_type": "code",
   "execution_count": 39,
   "metadata": {},
   "outputs": [
    {
     "name": "stdout",
     "output_type": "stream",
     "text": [
      "0 1 1 2 3 5 8 13 \n",
      "6\n"
     ]
    }
   ],
   "source": [
    "# Function\n",
    "\n",
    "def fib(n):\n",
    "    \"\"\"Fib documentation\"\"\"\n",
    "    a, b = 0, 1\n",
    "    while a < n:\n",
    "        print(a, end=' ')\n",
    "        a, b = b, a + b\n",
    "    print()\n",
    "\n",
    "from functools import reduce\n",
    "from operator import mul\n",
    "def multiply(*args):\n",
    "    return reduce(mul, args)\n",
    "\n",
    "fib(20)\n",
    "print(multiply(1,2,3))\n"
   ]
  },
  {
   "cell_type": "code",
   "execution_count": 5,
   "metadata": {},
   "outputs": [
    {
     "name": "stdout",
     "output_type": "stream",
     "text": [
      "[1, 2, 3, 4, 5, 6, 7, 8, 9, 10]\n",
      "11\n",
      "[1, 2, 3, 4, 5, 6, 7, 8, 9, 10]\n",
      "1\n",
      "[2, 3, 4, 5, 6, 7, 8, 9, 10, 11]\n",
      "[(1, 3), (1, 4), (1, 5), (2, 3), (2, 4), (2, 5)]\n",
      "[(1, 3), (2, 3), (1, 4), (2, 4), (1, 5), (2, 5)]\n",
      "[[1, 2, 3, 4], [5, 6, 7, 8], [9, 10, 11, 12]]\n",
      "[[1, 5, 9], [2, 6, 10], [3, 7, 11], [4, 8, 12]]\n",
      "[(1, 5, 9), (2, 6, 10), (3, 7, 11), (4, 8, 12)]\n",
      "1\n",
      "{1, 2, 3}\n",
      "{1}\n",
      "{1, 2, 3, 4, 5}\n",
      "{3}\n",
      "{'b'}\n"
     ]
    }
   ],
   "source": [
    "# Data Structure\n",
    "from itertools import count, islice, repeat\n",
    "stacks = list(islice(count(1), 10))\n",
    "print(stacks)\n",
    "stacks.append(11)\n",
    "print(stacks.pop())\n",
    "print(stacks)\n",
    "\n",
    "from collections import deque\n",
    "queue = deque(range(1, 11))\n",
    "queue.append(11)\n",
    "print(queue.popleft())\n",
    "print(list(queue))\n",
    "\n",
    "l = [(x, y) for x in range(1, 3) for y in range(3, 6)]\n",
    "print(l)\n",
    "from functools import reduce\n",
    "from operator import concat\n",
    "l = reduce(concat, [[(x, y) for x in range(1, 3)] for y in range(3, 6)])\n",
    "print(l)\n",
    "\n",
    "matrix = [list(range(1, 5)), list(range(5, 9)), list(range(9, 13)) ]\n",
    "print(matrix)\n",
    "transpose = [[row[x] for row in matrix] for x in range(len(matrix[0]))]\n",
    "print(transpose)\n",
    "print(list(zip(*matrix)))\n",
    "\n",
    "\n",
    "t = 1, 2, 'hello'\n",
    "print(t[0])\n",
    "\n",
    "sets = {1, 2, 1, 1, 3}\n",
    "print(sets)\n",
    "print(set([1] * 10))\n",
    "a = set(range(1, 4))\n",
    "b = set(range(3, 6))\n",
    "print(a | b)\n",
    "print(a & b)\n",
    "a = {x for x in 'ababababa' if x not in 'a'}\n",
    "print(a)"
   ]
  },
  {
   "cell_type": "code",
   "execution_count": null,
   "metadata": {},
   "outputs": [],
   "source": []
  },
  {
   "cell_type": "code",
   "execution_count": null,
   "metadata": {},
   "outputs": [],
   "source": []
  },
  {
   "cell_type": "code",
   "execution_count": null,
   "metadata": {},
   "outputs": [],
   "source": []
  },
  {
   "cell_type": "code",
   "execution_count": null,
   "metadata": {},
   "outputs": [],
   "source": []
  },
  {
   "cell_type": "code",
   "execution_count": null,
   "metadata": {},
   "outputs": [],
   "source": []
  },
  {
   "cell_type": "code",
   "execution_count": null,
   "metadata": {},
   "outputs": [],
   "source": []
  },
  {
   "cell_type": "code",
   "execution_count": null,
   "metadata": {},
   "outputs": [],
   "source": []
  },
  {
   "cell_type": "code",
   "execution_count": null,
   "metadata": {},
   "outputs": [],
   "source": []
  },
  {
   "cell_type": "code",
   "execution_count": null,
   "metadata": {},
   "outputs": [],
   "source": []
  },
  {
   "cell_type": "code",
   "execution_count": null,
   "metadata": {},
   "outputs": [],
   "source": []
  },
  {
   "cell_type": "code",
   "execution_count": null,
   "metadata": {},
   "outputs": [],
   "source": []
  },
  {
   "cell_type": "code",
   "execution_count": null,
   "metadata": {},
   "outputs": [],
   "source": []
  },
  {
   "cell_type": "code",
   "execution_count": null,
   "metadata": {},
   "outputs": [],
   "source": []
  },
  {
   "cell_type": "code",
   "execution_count": null,
   "metadata": {},
   "outputs": [],
   "source": []
  },
  {
   "cell_type": "code",
   "execution_count": null,
   "metadata": {},
   "outputs": [],
   "source": []
  },
  {
   "cell_type": "code",
   "execution_count": null,
   "metadata": {},
   "outputs": [],
   "source": []
  },
  {
   "cell_type": "code",
   "execution_count": null,
   "metadata": {},
   "outputs": [],
   "source": []
  },
  {
   "cell_type": "code",
   "execution_count": null,
   "metadata": {},
   "outputs": [],
   "source": []
  },
  {
   "cell_type": "code",
   "execution_count": null,
   "metadata": {},
   "outputs": [],
   "source": []
  },
  {
   "cell_type": "code",
   "execution_count": null,
   "metadata": {},
   "outputs": [],
   "source": []
  },
  {
   "cell_type": "code",
   "execution_count": null,
   "metadata": {},
   "outputs": [],
   "source": []
  },
  {
   "cell_type": "code",
   "execution_count": null,
   "metadata": {},
   "outputs": [],
   "source": []
  },
  {
   "cell_type": "code",
   "execution_count": null,
   "metadata": {},
   "outputs": [],
   "source": []
  },
  {
   "cell_type": "code",
   "execution_count": null,
   "metadata": {},
   "outputs": [],
   "source": []
  },
  {
   "cell_type": "code",
   "execution_count": null,
   "metadata": {},
   "outputs": [],
   "source": []
  },
  {
   "cell_type": "code",
   "execution_count": null,
   "metadata": {},
   "outputs": [],
   "source": []
  },
  {
   "cell_type": "code",
   "execution_count": null,
   "metadata": {},
   "outputs": [],
   "source": []
  },
  {
   "cell_type": "code",
   "execution_count": null,
   "metadata": {},
   "outputs": [],
   "source": []
  },
  {
   "cell_type": "code",
   "execution_count": null,
   "metadata": {},
   "outputs": [],
   "source": []
  }
 ],
 "metadata": {
  "kernelspec": {
   "display_name": "Python 3",
   "language": "python",
   "name": "python3"
  },
  "language_info": {
   "codemirror_mode": {
    "name": "ipython",
    "version": 3
   },
   "file_extension": ".py",
   "mimetype": "text/x-python",
   "name": "python",
   "nbconvert_exporter": "python",
   "pygments_lexer": "ipython3",
   "version": "3.5.3"
  }
 },
 "nbformat": 4,
 "nbformat_minor": 2
}
